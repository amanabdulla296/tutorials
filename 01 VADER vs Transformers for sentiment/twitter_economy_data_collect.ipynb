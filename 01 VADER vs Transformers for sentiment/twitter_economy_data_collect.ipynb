{
 "cells": [
  {
   "cell_type": "code",
   "execution_count": 1,
   "metadata": {},
   "outputs": [
    {
     "data": {
      "text/html": [
       "\n",
       "                <script type=\"application/javascript\" id=\"jupyter_black\">\n",
       "                (function() {\n",
       "                    if (window.IPython === undefined) {\n",
       "                        return\n",
       "                    }\n",
       "                    var msg = \"WARNING: it looks like you might have loaded \" +\n",
       "                        \"jupyter_black in a non-lab notebook with \" +\n",
       "                        \"`is_lab=True`. Please double check, and if \" +\n",
       "                        \"loading with `%load_ext` please review the README!\"\n",
       "                    console.log(msg)\n",
       "                    alert(msg)\n",
       "                })()\n",
       "                </script>\n",
       "                "
      ],
      "text/plain": [
       "<IPython.core.display.HTML object>"
      ]
     },
     "metadata": {},
     "output_type": "display_data"
    }
   ],
   "source": [
    "%load_ext jupyter_black\n",
    "import requests\n",
    "import json\n",
    "import pandas as pd\n",
    "from tqdm.notebook import tqdm\n",
    "import yaml\n",
    "import time"
   ]
  },
  {
   "cell_type": "code",
   "execution_count": 5,
   "metadata": {},
   "outputs": [
    {
     "data": {
      "application/vnd.jupyter.widget-view+json": {
       "model_id": "5d4057e1513f49ad99a853cf02f3ae11",
       "version_major": 2,
       "version_minor": 0
      },
      "text/plain": [
       "  0%|          | 0/10 [00:00<?, ?it/s]"
      ]
     },
     "metadata": {},
     "output_type": "display_data"
    }
   ],
   "source": [
    "with open(\"secrets.yaml\") as secret:\n",
    "    secret = yaml.load(secret, Loader=yaml.Loader)\n",
    "BEARER_TOKEN = secret[\"token_essential\"]\n",
    "# define search twitter function\n",
    "def search_twitter(\n",
    "    query, tweet_fields, next_token=None, count=0, bearer_token=BEARER_TOKEN\n",
    "):\n",
    "    headers = {\"Authorization\": \"Bearer {}\".format(bearer_token)}\n",
    "    if count == 0:\n",
    "\n",
    "        url = \"https://api.twitter.com/2/tweets/search/recent?max_results=100&query={}&tweet.fields={}\".format(\n",
    "            query, tweet_fields\n",
    "        )\n",
    "    else:\n",
    "        url = \"https://api.twitter.com/2/tweets/search/recent?max_results=100&query={}&tweet.fields={}&pagination_token={}\".format(\n",
    "            query, tweet_fields, next_token\n",
    "        )\n",
    "    response = requests.request(\"GET\", url, headers=headers)\n",
    "\n",
    "    # print(f'Status: {response.status_code} and count: {count}')\n",
    "\n",
    "    if response.status_code != 200:\n",
    "        raise Exception(response.status_code, response.text)\n",
    "    return response.json()\n",
    "\n",
    "\n",
    "# search term\n",
    "query = \"economy\"\n",
    "tweet_fields = \"created_at,id,text\"\n",
    "\n",
    "# twitter api call\n",
    "main_df = pd.DataFrame()\n",
    "COUNT = 0\n",
    "NEXT_TOKEN = None\n",
    "for i in tqdm(range(10)):\n",
    "    json_response = search_twitter(\n",
    "        query,\n",
    "        next_token=NEXT_TOKEN,\n",
    "        tweet_fields=tweet_fields,\n",
    "        count=COUNT,\n",
    "        bearer_token=BEARER_TOKEN,\n",
    "    )\n",
    "    NEXT_TOKEN = json_response[\"meta\"][\"next_token\"]\n",
    "    df = pd.DataFrame(json_response[\"data\"])\n",
    "    main_df = pd.concat([main_df, df], axis=0, ignore_index=True)\n",
    "    COUNT = COUNT + 1\n",
    "    time.sleep(3)"
   ]
  },
  {
   "cell_type": "code",
   "execution_count": null,
   "metadata": {},
   "outputs": [],
   "source": []
  }
 ],
 "metadata": {
  "kernelspec": {
   "display_name": "Python 3.8.12 ('my_personal_projects')",
   "language": "python",
   "name": "python3"
  },
  "language_info": {
   "codemirror_mode": {
    "name": "ipython",
    "version": 3
   },
   "file_extension": ".py",
   "mimetype": "text/x-python",
   "name": "python",
   "nbconvert_exporter": "python",
   "pygments_lexer": "ipython3",
   "version": "3.8.12"
  },
  "orig_nbformat": 4,
  "vscode": {
   "interpreter": {
    "hash": "97521ea767d3720e06db95235e4bfcbc4c42d00949b519aa9ff10f02c42e47bd"
   }
  }
 },
 "nbformat": 4,
 "nbformat_minor": 2
}
